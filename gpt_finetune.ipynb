{
 "cells": [
  {
   "cell_type": "markdown",
   "source": [
    "### Generate training data"
   ],
   "metadata": {
    "collapsed": false
   }
  },
  {
   "cell_type": "code",
   "execution_count": 2,
   "outputs": [
    {
     "name": "stdout",
     "output_type": "stream",
     "text": [
      "Appended Pokemon chuck: ['ferrothorn']\n",
      "Appended Pokemon chuck: ['porygon', 'gothorita', 'buzzwole']\n",
      "Appended Pokemon chuck: ['mamoswine', 'musharna', 'gastrodon', 'bunnelby']\n",
      "Appended Pokemon chuck: ['uxie', 'wigglytuff', 'cinccino']\n",
      "Appended Pokemon chuck: ['claydol']\n",
      "Appended Pokemon chuck: ['spidops', 'carnivine']\n",
      "Appended Pokemon chuck: ['suicune']\n"
     ]
    },
    {
     "ename": "CancelledError",
     "evalue": "",
     "output_type": "error",
     "traceback": [
      "\u001B[1;31m---------------------------------------------------------------------------\u001B[0m",
      "\u001B[1;31mCancelledError\u001B[0m                            Traceback (most recent call last)",
      "Cell \u001B[1;32mIn[2], line 7\u001B[0m\n\u001B[0;32m      5\u001B[0m pokemon_names_path \u001B[38;5;241m=\u001B[39m \u001B[38;5;124m\"\u001B[39m\u001B[38;5;124mdata/pokemon_names.json\u001B[39m\u001B[38;5;124m\"\u001B[39m\n\u001B[0;32m      6\u001B[0m train_save_path\u001B[38;5;241m=\u001B[39m\u001B[38;5;124m\"\u001B[39m\u001B[38;5;124mdata/finetune_data.csv\u001B[39m\u001B[38;5;124m\"\u001B[39m\n\u001B[1;32m----> 7\u001B[0m train_data \u001B[38;5;241m=\u001B[39m \u001B[38;5;28;01mawait\u001B[39;00m PokemonGroundTruth()\u001B[38;5;241m.\u001B[39mgenerate_data(pokemon_names_path)\n\u001B[0;32m      8\u001B[0m train_data\u001B[38;5;241m.\u001B[39mto_csv(train_save_path, index\u001B[38;5;241m=\u001B[39m\u001B[38;5;28;01mFalse\u001B[39;00m)\n\u001B[0;32m      9\u001B[0m \u001B[38;5;28mprint\u001B[39m(\u001B[38;5;124mf\u001B[39m\u001B[38;5;124m\"\u001B[39m\u001B[38;5;124mData saved to \u001B[39m\u001B[38;5;132;01m{\u001B[39;00mtrain_save_path\u001B[38;5;132;01m}\u001B[39;00m\u001B[38;5;124m\"\u001B[39m)\n",
      "File \u001B[1;32m~\\projects\\pokemon\\ground_truth_aiopoke.py:37\u001B[0m, in \u001B[0;36mPokemonGroundTruth.generate_data\u001B[1;34m(self, pokemon_names_path)\u001B[0m\n\u001B[0;32m     34\u001B[0m input_str \u001B[38;5;241m=\u001B[39m \u001B[38;5;124m\"\u001B[39m\u001B[38;5;124m, \u001B[39m\u001B[38;5;124m\"\u001B[39m\u001B[38;5;241m.\u001B[39mjoin([shard\u001B[38;5;241m.\u001B[39mcapitalize() \u001B[38;5;28;01mfor\u001B[39;00m shard \u001B[38;5;129;01min\u001B[39;00m chunk])\n\u001B[0;32m     35\u001B[0m data[\u001B[38;5;124m\"\u001B[39m\u001B[38;5;124mInput\u001B[39m\u001B[38;5;124m\"\u001B[39m]\u001B[38;5;241m.\u001B[39mappend(input_str)\n\u001B[1;32m---> 37\u001B[0m ground_df \u001B[38;5;241m=\u001B[39m \u001B[38;5;28;01mawait\u001B[39;00m \u001B[38;5;28mself\u001B[39m\u001B[38;5;241m.\u001B[39mfetch_pokemon_data(chunk)\n\u001B[0;32m     38\u001B[0m data[\u001B[38;5;124m\"\u001B[39m\u001B[38;5;124mOutput\u001B[39m\u001B[38;5;124m\"\u001B[39m]\u001B[38;5;241m.\u001B[39mappend(dataframe_to_table_string(ground_df))\n\u001B[0;32m     40\u001B[0m \u001B[38;5;28mprint\u001B[39m(\u001B[38;5;124mf\u001B[39m\u001B[38;5;124m\"\u001B[39m\u001B[38;5;124mAppended Pokemon chuck: \u001B[39m\u001B[38;5;132;01m{\u001B[39;00mchunk\u001B[38;5;132;01m}\u001B[39;00m\u001B[38;5;124m\"\u001B[39m)\n",
      "File \u001B[1;32m~\\projects\\pokemon\\ground_truth_aiopoke.py:52\u001B[0m, in \u001B[0;36mPokemonGroundTruth.fetch_pokemon_data\u001B[1;34m(pokemon_list)\u001B[0m\n\u001B[0;32m     50\u001B[0m \u001B[38;5;28;01mfor\u001B[39;00m pokemon_name \u001B[38;5;129;01min\u001B[39;00m pokemon_list:\n\u001B[0;32m     51\u001B[0m     pokemon_name \u001B[38;5;241m=\u001B[39m pokemon_name\u001B[38;5;241m.\u001B[39mlower()\n\u001B[1;32m---> 52\u001B[0m     pokemon \u001B[38;5;241m=\u001B[39m \u001B[38;5;28;01mawait\u001B[39;00m client\u001B[38;5;241m.\u001B[39mget_pokemon(pokemon_name)\n\u001B[0;32m     53\u001B[0m     species \u001B[38;5;241m=\u001B[39m \u001B[38;5;28;01mawait\u001B[39;00m client\u001B[38;5;241m.\u001B[39mget_pokemon_species(pokemon_name)\n\u001B[0;32m     55\u001B[0m     \u001B[38;5;66;03m# Fetching the evolution\u001B[39;00m\n",
      "File \u001B[1;32m~\\miniconda3\\envs\\pokemon\\lib\\site-packages\\aiopoke\\utils\\cache.py:27\u001B[0m, in \u001B[0;36mcache.<locals>.wrapper\u001B[1;34m(client, name_or_id)\u001B[0m\n\u001B[0;32m     24\u001B[0m \u001B[38;5;28;01mif\u001B[39;00m cached_item:\n\u001B[0;32m     25\u001B[0m     \u001B[38;5;28;01mreturn\u001B[39;00m cached_item\n\u001B[1;32m---> 27\u001B[0m obj: U \u001B[38;5;241m=\u001B[39m \u001B[38;5;28;01mawait\u001B[39;00m coro(client, name_or_id)\n\u001B[0;32m     28\u001B[0m client\u001B[38;5;241m.\u001B[39m_cache\u001B[38;5;241m.\u001B[39mput(\u001B[38;5;124mf\u001B[39m\u001B[38;5;124m\"\u001B[39m\u001B[38;5;132;01m{\u001B[39;00mendpoint\u001B[38;5;132;01m}\u001B[39;00m\u001B[38;5;124m/\u001B[39m\u001B[38;5;132;01m{\u001B[39;00mname_or_id\u001B[38;5;132;01m}\u001B[39;00m\u001B[38;5;124m\"\u001B[39m, obj)\n\u001B[0;32m     29\u001B[0m \u001B[38;5;28;01mreturn\u001B[39;00m obj\n",
      "File \u001B[1;32m~\\miniconda3\\envs\\pokemon\\lib\\site-packages\\aiopoke\\aiopoke_client.py:250\u001B[0m, in \u001B[0;36mAiopokeClient.get_pokemon\u001B[1;34m(self, name_or_id)\u001B[0m\n\u001B[0;32m    248\u001B[0m \u001B[38;5;28;01masync\u001B[39;00m \u001B[38;5;28;01mdef\u001B[39;00m \u001B[38;5;21mget_pokemon\u001B[39m(\u001B[38;5;28mself\u001B[39m, name_or_id: Union[\u001B[38;5;28mstr\u001B[39m, \u001B[38;5;28mint\u001B[39m]) \u001B[38;5;241m-\u001B[39m\u001B[38;5;241m>\u001B[39m Pokemon:\n\u001B[0;32m    249\u001B[0m     data \u001B[38;5;241m=\u001B[39m \u001B[38;5;28;01mawait\u001B[39;00m \u001B[38;5;28mself\u001B[39m\u001B[38;5;241m.\u001B[39mhttp\u001B[38;5;241m.\u001B[39mget(\u001B[38;5;124mf\u001B[39m\u001B[38;5;124m\"\u001B[39m\u001B[38;5;124mpokemon/\u001B[39m\u001B[38;5;132;01m{\u001B[39;00mname_or_id\u001B[38;5;132;01m}\u001B[39;00m\u001B[38;5;124m\"\u001B[39m)\n\u001B[1;32m--> 250\u001B[0m     data[\u001B[38;5;124m\"\u001B[39m\u001B[38;5;124mlocation_area_encounters\u001B[39m\u001B[38;5;124m\"\u001B[39m] \u001B[38;5;241m=\u001B[39m \u001B[38;5;28;01mawait\u001B[39;00m \u001B[38;5;28mself\u001B[39m\u001B[38;5;241m.\u001B[39mhttp\u001B[38;5;241m.\u001B[39mget(\n\u001B[0;32m    251\u001B[0m         \u001B[38;5;124mf\u001B[39m\u001B[38;5;124m\"\u001B[39m\u001B[38;5;124mpokemon/\u001B[39m\u001B[38;5;132;01m{\u001B[39;00mdata[\u001B[38;5;124m'\u001B[39m\u001B[38;5;124mid\u001B[39m\u001B[38;5;124m'\u001B[39m]\u001B[38;5;132;01m}\u001B[39;00m\u001B[38;5;124m/encounters\u001B[39m\u001B[38;5;124m\"\u001B[39m\n\u001B[0;32m    252\u001B[0m     )\n\u001B[0;32m    253\u001B[0m     \u001B[38;5;28;01mreturn\u001B[39;00m Pokemon(\u001B[38;5;241m*\u001B[39m\u001B[38;5;241m*\u001B[39mdata)\n",
      "File \u001B[1;32m~\\miniconda3\\envs\\pokemon\\lib\\site-packages\\aiopoke\\http_client.py:25\u001B[0m, in \u001B[0;36mHttpClient.get\u001B[1;34m(self, endpoint)\u001B[0m\n\u001B[0;32m     22\u001B[0m \u001B[38;5;28;01mif\u001B[39;00m endpoint \u001B[38;5;129;01min\u001B[39;00m \u001B[38;5;28mself\u001B[39m\u001B[38;5;241m.\u001B[39minexistent_endpoints:\n\u001B[0;32m     23\u001B[0m     \u001B[38;5;28;01mraise\u001B[39;00m \u001B[38;5;167;01mValueError\u001B[39;00m(\u001B[38;5;124mf\u001B[39m\u001B[38;5;124m\"\u001B[39m\u001B[38;5;124mThe id or name for \u001B[39m\u001B[38;5;132;01m{\u001B[39;00mendpoint\u001B[38;5;132;01m}\u001B[39;00m\u001B[38;5;124m was not found.\u001B[39m\u001B[38;5;124m\"\u001B[39m)\n\u001B[1;32m---> 25\u001B[0m \u001B[38;5;28;01masync\u001B[39;00m \u001B[38;5;28;01mwith\u001B[39;00m \u001B[38;5;28mself\u001B[39m\u001B[38;5;241m.\u001B[39m_session\u001B[38;5;241m.\u001B[39mget(\n\u001B[0;32m     26\u001B[0m     \u001B[38;5;124mf\u001B[39m\u001B[38;5;124m\"\u001B[39m\u001B[38;5;124mhttps://pokeapi.co/api/v2/\u001B[39m\u001B[38;5;132;01m{\u001B[39;00mendpoint\u001B[38;5;132;01m}\u001B[39;00m\u001B[38;5;124m\"\u001B[39m\n\u001B[0;32m     27\u001B[0m ) \u001B[38;5;28;01mas\u001B[39;00m response:\n\u001B[0;32m     28\u001B[0m     \u001B[38;5;28;01mif\u001B[39;00m response\u001B[38;5;241m.\u001B[39mstatus \u001B[38;5;241m==\u001B[39m \u001B[38;5;241m404\u001B[39m:\n\u001B[0;32m     29\u001B[0m         \u001B[38;5;28mself\u001B[39m\u001B[38;5;241m.\u001B[39minexistent_endpoints\u001B[38;5;241m.\u001B[39mappend(endpoint)\n",
      "File \u001B[1;32m~\\miniconda3\\envs\\pokemon\\lib\\site-packages\\aiohttp\\client.py:1141\u001B[0m, in \u001B[0;36m_BaseRequestContextManager.__aenter__\u001B[1;34m(self)\u001B[0m\n\u001B[0;32m   1140\u001B[0m \u001B[38;5;28;01masync\u001B[39;00m \u001B[38;5;28;01mdef\u001B[39;00m \u001B[38;5;21m__aenter__\u001B[39m(\u001B[38;5;28mself\u001B[39m) \u001B[38;5;241m-\u001B[39m\u001B[38;5;241m>\u001B[39m _RetType:\n\u001B[1;32m-> 1141\u001B[0m     \u001B[38;5;28mself\u001B[39m\u001B[38;5;241m.\u001B[39m_resp \u001B[38;5;241m=\u001B[39m \u001B[38;5;28;01mawait\u001B[39;00m \u001B[38;5;28mself\u001B[39m\u001B[38;5;241m.\u001B[39m_coro\n\u001B[0;32m   1142\u001B[0m     \u001B[38;5;28;01mreturn\u001B[39;00m \u001B[38;5;28mself\u001B[39m\u001B[38;5;241m.\u001B[39m_resp\n",
      "File \u001B[1;32m~\\miniconda3\\envs\\pokemon\\lib\\site-packages\\aiohttp\\client.py:560\u001B[0m, in \u001B[0;36mClientSession._request\u001B[1;34m(self, method, str_or_url, params, data, json, cookies, headers, skip_auto_headers, auth, allow_redirects, max_redirects, compress, chunked, expect100, raise_for_status, read_until_eof, proxy, proxy_auth, timeout, verify_ssl, fingerprint, ssl_context, ssl, proxy_headers, trace_request_ctx, read_bufsize)\u001B[0m\n\u001B[0;32m    558\u001B[0m resp \u001B[38;5;241m=\u001B[39m \u001B[38;5;28;01mawait\u001B[39;00m req\u001B[38;5;241m.\u001B[39msend(conn)\n\u001B[0;32m    559\u001B[0m \u001B[38;5;28;01mtry\u001B[39;00m:\n\u001B[1;32m--> 560\u001B[0m     \u001B[38;5;28;01mawait\u001B[39;00m resp\u001B[38;5;241m.\u001B[39mstart(conn)\n\u001B[0;32m    561\u001B[0m \u001B[38;5;28;01mexcept\u001B[39;00m \u001B[38;5;167;01mBaseException\u001B[39;00m:\n\u001B[0;32m    562\u001B[0m     resp\u001B[38;5;241m.\u001B[39mclose()\n",
      "File \u001B[1;32m~\\miniconda3\\envs\\pokemon\\lib\\site-packages\\aiohttp\\client_reqrep.py:899\u001B[0m, in \u001B[0;36mClientResponse.start\u001B[1;34m(self, connection)\u001B[0m\n\u001B[0;32m    897\u001B[0m \u001B[38;5;28;01mtry\u001B[39;00m:\n\u001B[0;32m    898\u001B[0m     protocol \u001B[38;5;241m=\u001B[39m \u001B[38;5;28mself\u001B[39m\u001B[38;5;241m.\u001B[39m_protocol\n\u001B[1;32m--> 899\u001B[0m     message, payload \u001B[38;5;241m=\u001B[39m \u001B[38;5;28;01mawait\u001B[39;00m protocol\u001B[38;5;241m.\u001B[39mread()  \u001B[38;5;66;03m# type: ignore[union-attr]\u001B[39;00m\n\u001B[0;32m    900\u001B[0m \u001B[38;5;28;01mexcept\u001B[39;00m http\u001B[38;5;241m.\u001B[39mHttpProcessingError \u001B[38;5;28;01mas\u001B[39;00m exc:\n\u001B[0;32m    901\u001B[0m     \u001B[38;5;28;01mraise\u001B[39;00m ClientResponseError(\n\u001B[0;32m    902\u001B[0m         \u001B[38;5;28mself\u001B[39m\u001B[38;5;241m.\u001B[39mrequest_info,\n\u001B[0;32m    903\u001B[0m         \u001B[38;5;28mself\u001B[39m\u001B[38;5;241m.\u001B[39mhistory,\n\u001B[1;32m   (...)\u001B[0m\n\u001B[0;32m    906\u001B[0m         headers\u001B[38;5;241m=\u001B[39mexc\u001B[38;5;241m.\u001B[39mheaders,\n\u001B[0;32m    907\u001B[0m     ) \u001B[38;5;28;01mfrom\u001B[39;00m \u001B[38;5;21;01mexc\u001B[39;00m\n",
      "File \u001B[1;32m~\\miniconda3\\envs\\pokemon\\lib\\site-packages\\aiohttp\\streams.py:616\u001B[0m, in \u001B[0;36mDataQueue.read\u001B[1;34m(self)\u001B[0m\n\u001B[0;32m    614\u001B[0m \u001B[38;5;28mself\u001B[39m\u001B[38;5;241m.\u001B[39m_waiter \u001B[38;5;241m=\u001B[39m \u001B[38;5;28mself\u001B[39m\u001B[38;5;241m.\u001B[39m_loop\u001B[38;5;241m.\u001B[39mcreate_future()\n\u001B[0;32m    615\u001B[0m \u001B[38;5;28;01mtry\u001B[39;00m:\n\u001B[1;32m--> 616\u001B[0m     \u001B[38;5;28;01mawait\u001B[39;00m \u001B[38;5;28mself\u001B[39m\u001B[38;5;241m.\u001B[39m_waiter\n\u001B[0;32m    617\u001B[0m \u001B[38;5;28;01mexcept\u001B[39;00m (asyncio\u001B[38;5;241m.\u001B[39mCancelledError, asyncio\u001B[38;5;241m.\u001B[39mTimeoutError):\n\u001B[0;32m    618\u001B[0m     \u001B[38;5;28mself\u001B[39m\u001B[38;5;241m.\u001B[39m_waiter \u001B[38;5;241m=\u001B[39m \u001B[38;5;28;01mNone\u001B[39;00m\n",
      "\u001B[1;31mCancelledError\u001B[0m: "
     ]
    }
   ],
   "source": [
    "import pandas as pd\n",
    "import json\n",
    "from ground_truth_aiopoke import PokemonGroundTruth\n",
    "\n",
    "pokemon_names_path = \"data/pokemon_names.json\"\n",
    "train_save_path = \"data/finetune_data.csv\"\n",
    "train_data = await PokemonGroundTruth().generate_data(pokemon_names_path)\n",
    "train_data.to_csv(train_save_path, index=False)\n",
    "print(f\"Data saved to {train_save_path}\")"
   ],
   "metadata": {
    "collapsed": false
   }
  },
  {
   "cell_type": "markdown",
   "source": [
    "### Format training data"
   ],
   "metadata": {
    "collapsed": false
   }
  },
  {
   "cell_type": "code",
   "execution_count": 7,
   "outputs": [
    {
     "name": "stdout",
     "output_type": "stream",
     "text": [
      "Train data saved to data/train.jsonl\n",
      "Train data saved to data/train.csv\n"
     ]
    }
   ],
   "source": [
    "from prompt import messages_for_model, POKEMON_SYSTEM_MESSAGE\n",
    "\n",
    "\n",
    "def format_csv_for_train(model, train_data_path):\n",
    "    with open(train_data_path, encoding=\"utf8\") as data_file:\n",
    "        data = pd.read_csv(data_file)\n",
    "\n",
    "    formatted_train_data = pd.DataFrame()\n",
    "    formatted_train_data[\"text\"] = data.apply(\n",
    "        lambda row: messages_for_model(\n",
    "            model=model,\n",
    "            system_message=POKEMON_SYSTEM_MESSAGE,\n",
    "            user_message=row[\"Input\"],\n",
    "            assistant_message=row[\"Output\"],\n",
    "        ),\n",
    "        axis=1,\n",
    "    )\n",
    "\n",
    "    if model == \"llama\":\n",
    "        formatted_train_data.to_csv(\"data/train.csv\", index=False)\n",
    "        print(f\"Train data saved to data/train.csv\")\n",
    "    elif model == \"gpt\":\n",
    "        with open(\"data/train.jsonl\", \"w\", encoding=\"utf8\") as jsonl_file:\n",
    "            for messages in formatted_train_data[\"text\"]:\n",
    "                jsonl_file.write(json.dumps({\"messages\": messages}) + \"\\n\")\n",
    "        print(f\"Train data saved to data/train.jsonl\")\n",
    "    else:\n",
    "        raise NotImplementedError(f\"Model '{model}' not supported.\")\n",
    "\n",
    "\n",
    "format_csv_for_train(model=\"gpt\", train_data_path=train_save_path)\n",
    "format_csv_for_train(model=\"llama\", train_data_path=train_save_path)"
   ],
   "metadata": {
    "collapsed": false
   }
  },
  {
   "cell_type": "markdown",
   "source": [
    "### Finetune GPT3.5"
   ],
   "metadata": {
    "collapsed": false
   }
  },
  {
   "cell_type": "code",
   "execution_count": 9,
   "outputs": [],
   "source": [
    "import os\n",
    "\n",
    "import openai\n",
    "from dotenv import load_dotenv\n",
    "\n",
    "load_dotenv()\n",
    "openai.api_key = os.getenv(\"OPENAI_API_KEY\")"
   ],
   "metadata": {
    "collapsed": false
   }
  },
  {
   "cell_type": "code",
   "execution_count": null,
   "outputs": [],
   "source": [
    "file = openai.File.create(file=open(\"data/train.jsonl\", \"rb\"), purpose=\"fine-tune\")\n",
    "print(file)"
   ],
   "metadata": {
    "collapsed": false
   }
  },
  {
   "cell_type": "code",
   "execution_count": null,
   "outputs": [],
   "source": [
    "# You will probably need to wait a couple of minutes before the uploaded file is ready\n",
    "\n",
    "openai.FineTuningJob.create(training_file=file[\"id\"], model=\"gpt-3.5-turbo\")"
   ],
   "metadata": {
    "collapsed": false
   }
  },
  {
   "cell_type": "code",
   "execution_count": 11,
   "outputs": [
    {
     "name": "stdout",
     "output_type": "stream",
     "text": [
      "{\n",
      "  \"object\": \"list\",\n",
      "  \"data\": [\n",
      "    {\n",
      "      \"object\": \"fine_tuning.job\",\n",
      "      \"id\": \"ftjob-U01WZSLIyVY00hyku7dgyi9Z\",\n",
      "      \"model\": \"gpt-3.5-turbo-0613\",\n",
      "      \"created_at\": 1692969616,\n",
      "      \"finished_at\": 1692971409,\n",
      "      \"fine_tuned_model\": \"ft:gpt-3.5-turbo-0613:personal::7rRUMYgA\",\n",
      "      \"organization_id\": \"org-YUi2D6gnQ3ezE2TdIVKbFt1e\",\n",
      "      \"result_files\": [\n",
      "        \"file-aVuZ9RHu25CKO66ysrQSpF3V\"\n",
      "      ],\n",
      "      \"status\": \"succeeded\",\n",
      "      \"validation_file\": null,\n",
      "      \"training_file\": \"file-odhZzGyN37pPgrqLaez4dfzy\",\n",
      "      \"hyperparameters\": {\n",
      "        \"n_epochs\": 3\n",
      "      },\n",
      "      \"trained_tokens\": 881070\n",
      "    }\n",
      "  ],\n",
      "  \"has_more\": false\n",
      "}\n",
      "ft:gpt-3.5-turbo-0613:personal::7rRUMYgA\n",
      "succeeded\n"
     ]
    }
   ],
   "source": [
    "# You will probably need to wait around 30 minutes for the job to complete\n",
    "\n",
    "ft_job = openai.FineTuningJob.list(limit=1)\n",
    "print(ft_job)\n",
    "print(ft_job[\"data\"][0][\"fine_tuned_model\"])\n",
    "print(ft_job[\"data\"][0][\"status\"])"
   ],
   "metadata": {
    "collapsed": false
   }
  },
  {
   "cell_type": "markdown",
   "source": [
    "### Finetune Llama 2"
   ],
   "metadata": {
    "collapsed": false
   }
  },
  {
   "cell_type": "code",
   "execution_count": 13,
   "outputs": [
    {
     "name": "stdout",
     "output_type": "stream",
     "text": [
      "^C\n",
      "^C\n"
     ]
    }
   ],
   "source": [
    "# You can find already trained LoRa at huggingface tolevi/Llama-2-7b-Chat-Pokemon-GPTQ\n",
    "\n",
    "!autotrain llm --train --model TheBloke/Llama-2-7b-Chat-GPTQ --project-name tolevi/Llama-2-7b-Chat-Pokemon-GPTQ --data-path data/ --text-column text --fp16 --use-peft --use-int4"
   ],
   "metadata": {
    "collapsed": false
   }
  }
 ],
 "metadata": {
  "kernelspec": {
   "display_name": "Python 3",
   "language": "python",
   "name": "python3"
  },
  "language_info": {
   "codemirror_mode": {
    "name": "ipython",
    "version": 2
   },
   "file_extension": ".py",
   "mimetype": "text/x-python",
   "name": "python",
   "nbconvert_exporter": "python",
   "pygments_lexer": "ipython2",
   "version": "2.7.6"
  }
 },
 "nbformat": 4,
 "nbformat_minor": 0
}
